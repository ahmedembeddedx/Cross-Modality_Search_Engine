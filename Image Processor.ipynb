{
 "cells": [
  {
   "cell_type": "code",
   "execution_count": 182,
   "id": "fd11be01",
   "metadata": {},
   "outputs": [],
   "source": [
    "from transformers import CLIPProcessor, CLIPModel\n",
    "from PIL import Image\n",
    "import io\n",
    "from tqdm import tqdm\n",
    "import os\n",
    "from IPython.display import display\n",
    "import numpy as np\n",
    "import torch"
   ]
  },
  {
   "cell_type": "code",
   "execution_count": 183,
   "id": "54c71d87",
   "metadata": {
    "scrolled": true
   },
   "outputs": [],
   "source": [
    "device = torch.device('mps' if torch.backends.mps.is_available() else 'cpu')\n",
    "    \n",
    "clip_processor = CLIPProcessor.from_pretrained(\"openai/clip-vit-base-patch32\")\n",
    "clip_model = CLIPModel.from_pretrained(\"openai/clip-vit-base-patch32\")\n",
    "\n",
    "clip_model = clip_model.to(device)"
   ]
  },
  {
   "cell_type": "code",
   "execution_count": 184,
   "id": "05ac39b1",
   "metadata": {},
   "outputs": [],
   "source": [
    "def process_image(image_bytes):\n",
    "    image = Image.open(io.BytesIO(image_bytes)).convert(\"RGB\")\n",
    "\n",
    "    inputs = clip_processor(\n",
    "        images=image,\n",
    "        return_tensors=\"pt\"\n",
    "    )\n",
    "    \n",
    "    for key in inputs.keys():\n",
    "        inputs[key] = inputs[key].to(device)\n",
    "\n",
    "    image_features = clip_model.get_image_features(pixel_values=inputs.pixel_values)\n",
    "    \n",
    "    return image_features"
   ]
  },
  {
   "cell_type": "code",
   "execution_count": 185,
   "id": "1bc724c5",
   "metadata": {},
   "outputs": [],
   "source": [
    "def process_all_images(folder_name, output_file, image_paths_file):\n",
    "    image_embeddings = []\n",
    "    image_paths = []\n",
    "\n",
    "    total_files = sum(1 for root, dirs, files in os.walk(folder_name) for file in files if file.lower().endswith(('.png', '.jpg', '.jpeg', '.bmp')))\n",
    "    \n",
    "    with tqdm(total=total_files, desc=\"Processing images\", leave=False) as pbar:\n",
    "        for root, dirs, files in os.walk(folder_name):\n",
    "            for file in files:\n",
    "                if file.lower().endswith(('.png', '.jpg', '.jpeg', '.bmp')):\n",
    "                    item_path = os.path.join(root, file)\n",
    "                    with open(item_path, \"rb\") as f:\n",
    "                        image_bytes = f.read()\n",
    "                    \n",
    "                    image_features = process_image(image_bytes)\n",
    "                    image_embeddings.append(image_features.cpu().detach().numpy())\n",
    "                    image_paths.append(item_path)\n",
    "                    \n",
    "                    pbar.update(1)\n",
    "    \n",
    "    image_embeddings_tensor = torch.tensor(image_embeddings)\n",
    "    \n",
    "    torch.save(image_embeddings_tensor, output_file)\n",
    "    \n",
    "    with open(image_paths_file, 'w') as f:\n",
    "        for item_path in image_paths:\n",
    "            f.write(\"%s\\n\" % item_path)\n",
    "    \n",
    "    return image_paths"
   ]
  },
  {
   "cell_type": "code",
   "execution_count": 186,
   "id": "40ea96ca",
   "metadata": {},
   "outputs": [
    {
     "name": "stderr",
     "output_type": "stream",
     "text": [
      "                                                                                \r"
     ]
    }
   ],
   "source": [
    "_ = process_all_images(folder_name=\"data\", output_file=\"image_embeddings.pt\", image_paths_file=\"image_paths.txt\")"
   ]
  },
  {
   "cell_type": "code",
   "execution_count": null,
   "id": "458330b9",
   "metadata": {},
   "outputs": [],
   "source": [
    "# 122.png\n",
    "\n",
    "# 122.pt\n",
    "\n",
    "# query -> embedding -> for each .pt, check cosine_similarity"
   ]
  }
 ],
 "metadata": {
  "kernelspec": {
   "display_name": "Python 3 (ipykernel)",
   "language": "python",
   "name": "python3"
  },
  "language_info": {
   "codemirror_mode": {
    "name": "ipython",
    "version": 3
   },
   "file_extension": ".py",
   "mimetype": "text/x-python",
   "name": "python",
   "nbconvert_exporter": "python",
   "pygments_lexer": "ipython3",
   "version": "3.11.5"
  }
 },
 "nbformat": 4,
 "nbformat_minor": 5
}
